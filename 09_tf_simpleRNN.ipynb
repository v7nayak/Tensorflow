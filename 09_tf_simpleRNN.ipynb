{
  "nbformat": 4,
  "nbformat_minor": 0,
  "metadata": {
    "colab": {
      "provenance": []
    },
    "kernelspec": {
      "name": "python3",
      "display_name": "Python 3"
    },
    "language_info": {
      "name": "python"
    }
  },
  "cells": [
    {
      "cell_type": "code",
      "source": [
        "import tensorflow as tf\n",
        "from tensorflow.keras.preprocessing.text import Tokenizer\n",
        "from tensorflow.keras.preprocessing.sequence import pad_sequences\n"
      ],
      "metadata": {
        "id": "bRueW2luZjnS"
      },
      "execution_count": 1,
      "outputs": []
    },
    {
      "cell_type": "code",
      "source": [
        "# Sample training data\n",
        "sentences = [\n",
        "    \"I am learning Tensorflow \",\n",
        "    \"Tensorflow is a Deep Learning framework\",\n",
        "    \"It is used to create Neural Netowrks\"\n",
        "]"
      ],
      "metadata": {
        "id": "gJ5GOW4fZnHX"
      },
      "execution_count": 2,
      "outputs": []
    },
    {
      "cell_type": "code",
      "source": [
        "# Tokenization\n",
        "tokenizer = Tokenizer()\n",
        "tokenizer.fit_on_texts(sentences)\n",
        "total_words = len(tokenizer.word_index) + 1\n",
        "\n",
        "# Create input sequences and labels\n",
        "input_sequences = []\n",
        "for sentence in sentences:\n",
        "    tokenized_sentence = tokenizer.texts_to_sequences([sentence])[0]\n",
        "    for i in range(1, len(tokenized_sentence)):\n",
        "        n_gram_sequence = tokenized_sentence[:i+1]\n",
        "        input_sequences.append(n_gram_sequence)\n",
        "\n",
        "# Pad sequences for equal length\n",
        "max_sequence_length = max(len(seq) for seq in input_sequences)\n",
        "padded_sequences = pad_sequences(input_sequences, maxlen=max_sequence_length, padding='pre')"
      ],
      "metadata": {
        "id": "JmcypeDZaEOo"
      },
      "execution_count": 3,
      "outputs": []
    },
    {
      "cell_type": "code",
      "source": [
        "# Create predictors and labels\n",
        "X = padded_sequences[:, :-1]\n",
        "y = tf.keras.utils.to_categorical(padded_sequences[:, -1], num_classes=total_words)"
      ],
      "metadata": {
        "id": "bBfW0-lEaLmf"
      },
      "execution_count": 4,
      "outputs": []
    },
    {
      "cell_type": "code",
      "execution_count": 5,
      "metadata": {
        "colab": {
          "base_uri": "https://localhost:8080/"
        },
        "id": "P5XQMaey-bjB",
        "outputId": "4b5f4331-4ed3-49ad-d68f-5590cbb3b483"
      },
      "outputs": [
        {
          "output_type": "stream",
          "name": "stdout",
          "text": [
            "Epoch 1/100\n",
            "1/1 - 1s - loss: 2.7551 - accuracy: 0.0000e+00 - 996ms/epoch - 996ms/step\n",
            "Epoch 2/100\n",
            "1/1 - 0s - loss: 2.7039 - accuracy: 0.0714 - 7ms/epoch - 7ms/step\n",
            "Epoch 3/100\n",
            "1/1 - 0s - loss: 2.6556 - accuracy: 0.2143 - 6ms/epoch - 6ms/step\n",
            "Epoch 4/100\n",
            "1/1 - 0s - loss: 2.6086 - accuracy: 0.5000 - 6ms/epoch - 6ms/step\n",
            "Epoch 5/100\n",
            "1/1 - 0s - loss: 2.5615 - accuracy: 0.5714 - 8ms/epoch - 8ms/step\n",
            "Epoch 6/100\n",
            "1/1 - 0s - loss: 2.5133 - accuracy: 0.5000 - 8ms/epoch - 8ms/step\n",
            "Epoch 7/100\n",
            "1/1 - 0s - loss: 2.4631 - accuracy: 0.5000 - 7ms/epoch - 7ms/step\n",
            "Epoch 8/100\n",
            "1/1 - 0s - loss: 2.4105 - accuracy: 0.5000 - 7ms/epoch - 7ms/step\n",
            "Epoch 9/100\n",
            "1/1 - 0s - loss: 2.3551 - accuracy: 0.5000 - 7ms/epoch - 7ms/step\n",
            "Epoch 10/100\n",
            "1/1 - 0s - loss: 2.2972 - accuracy: 0.5000 - 8ms/epoch - 8ms/step\n",
            "Epoch 11/100\n",
            "1/1 - 0s - loss: 2.2370 - accuracy: 0.5000 - 8ms/epoch - 8ms/step\n",
            "Epoch 12/100\n",
            "1/1 - 0s - loss: 2.1755 - accuracy: 0.5000 - 7ms/epoch - 7ms/step\n",
            "Epoch 13/100\n",
            "1/1 - 0s - loss: 2.1133 - accuracy: 0.4286 - 7ms/epoch - 7ms/step\n",
            "Epoch 14/100\n",
            "1/1 - 0s - loss: 2.0505 - accuracy: 0.4286 - 11ms/epoch - 11ms/step\n",
            "Epoch 15/100\n",
            "1/1 - 0s - loss: 1.9865 - accuracy: 0.4286 - 13ms/epoch - 13ms/step\n",
            "Epoch 16/100\n",
            "1/1 - 0s - loss: 1.9203 - accuracy: 0.4286 - 11ms/epoch - 11ms/step\n",
            "Epoch 17/100\n",
            "1/1 - 0s - loss: 1.8516 - accuracy: 0.5000 - 6ms/epoch - 6ms/step\n",
            "Epoch 18/100\n",
            "1/1 - 0s - loss: 1.7815 - accuracy: 0.5000 - 9ms/epoch - 9ms/step\n",
            "Epoch 19/100\n",
            "1/1 - 0s - loss: 1.7118 - accuracy: 0.5000 - 7ms/epoch - 7ms/step\n",
            "Epoch 20/100\n",
            "1/1 - 0s - loss: 1.6444 - accuracy: 0.5000 - 6ms/epoch - 6ms/step\n",
            "Epoch 21/100\n",
            "1/1 - 0s - loss: 1.5805 - accuracy: 0.5714 - 6ms/epoch - 6ms/step\n",
            "Epoch 22/100\n",
            "1/1 - 0s - loss: 1.5199 - accuracy: 0.6429 - 8ms/epoch - 8ms/step\n",
            "Epoch 23/100\n",
            "1/1 - 0s - loss: 1.4622 - accuracy: 0.7143 - 7ms/epoch - 7ms/step\n",
            "Epoch 24/100\n",
            "1/1 - 0s - loss: 1.4071 - accuracy: 0.6429 - 7ms/epoch - 7ms/step\n",
            "Epoch 25/100\n",
            "1/1 - 0s - loss: 1.3548 - accuracy: 0.6429 - 6ms/epoch - 6ms/step\n",
            "Epoch 26/100\n",
            "1/1 - 0s - loss: 1.3061 - accuracy: 0.6429 - 6ms/epoch - 6ms/step\n",
            "Epoch 27/100\n",
            "1/1 - 0s - loss: 1.2608 - accuracy: 0.7143 - 6ms/epoch - 6ms/step\n",
            "Epoch 28/100\n",
            "1/1 - 0s - loss: 1.2178 - accuracy: 0.7143 - 7ms/epoch - 7ms/step\n",
            "Epoch 29/100\n",
            "1/1 - 0s - loss: 1.1755 - accuracy: 0.7143 - 7ms/epoch - 7ms/step\n",
            "Epoch 30/100\n",
            "1/1 - 0s - loss: 1.1330 - accuracy: 0.7143 - 6ms/epoch - 6ms/step\n",
            "Epoch 31/100\n",
            "1/1 - 0s - loss: 1.0906 - accuracy: 0.7143 - 5ms/epoch - 5ms/step\n",
            "Epoch 32/100\n",
            "1/1 - 0s - loss: 1.0490 - accuracy: 0.7143 - 8ms/epoch - 8ms/step\n",
            "Epoch 33/100\n",
            "1/1 - 0s - loss: 1.0087 - accuracy: 0.8571 - 9ms/epoch - 9ms/step\n",
            "Epoch 34/100\n",
            "1/1 - 0s - loss: 0.9694 - accuracy: 0.9286 - 8ms/epoch - 8ms/step\n",
            "Epoch 35/100\n",
            "1/1 - 0s - loss: 0.9302 - accuracy: 0.8571 - 6ms/epoch - 6ms/step\n",
            "Epoch 36/100\n",
            "1/1 - 0s - loss: 0.8912 - accuracy: 0.8571 - 7ms/epoch - 7ms/step\n",
            "Epoch 37/100\n",
            "1/1 - 0s - loss: 0.8529 - accuracy: 0.9286 - 7ms/epoch - 7ms/step\n",
            "Epoch 38/100\n",
            "1/1 - 0s - loss: 0.8159 - accuracy: 0.9286 - 7ms/epoch - 7ms/step\n",
            "Epoch 39/100\n",
            "1/1 - 0s - loss: 0.7802 - accuracy: 0.9286 - 7ms/epoch - 7ms/step\n",
            "Epoch 40/100\n",
            "1/1 - 0s - loss: 0.7454 - accuracy: 0.9286 - 8ms/epoch - 8ms/step\n",
            "Epoch 41/100\n",
            "1/1 - 0s - loss: 0.7110 - accuracy: 0.9286 - 10ms/epoch - 10ms/step\n",
            "Epoch 42/100\n",
            "1/1 - 0s - loss: 0.6774 - accuracy: 0.9286 - 7ms/epoch - 7ms/step\n",
            "Epoch 43/100\n",
            "1/1 - 0s - loss: 0.6448 - accuracy: 0.9286 - 9ms/epoch - 9ms/step\n",
            "Epoch 44/100\n",
            "1/1 - 0s - loss: 0.6132 - accuracy: 0.9286 - 7ms/epoch - 7ms/step\n",
            "Epoch 45/100\n",
            "1/1 - 0s - loss: 0.5824 - accuracy: 0.9286 - 7ms/epoch - 7ms/step\n",
            "Epoch 46/100\n",
            "1/1 - 0s - loss: 0.5524 - accuracy: 0.9286 - 7ms/epoch - 7ms/step\n",
            "Epoch 47/100\n",
            "1/1 - 0s - loss: 0.5234 - accuracy: 0.9286 - 8ms/epoch - 8ms/step\n",
            "Epoch 48/100\n",
            "1/1 - 0s - loss: 0.4958 - accuracy: 0.9286 - 7ms/epoch - 7ms/step\n",
            "Epoch 49/100\n",
            "1/1 - 0s - loss: 0.4693 - accuracy: 0.9286 - 6ms/epoch - 6ms/step\n",
            "Epoch 50/100\n",
            "1/1 - 0s - loss: 0.4439 - accuracy: 0.9286 - 6ms/epoch - 6ms/step\n",
            "Epoch 51/100\n",
            "1/1 - 0s - loss: 0.4197 - accuracy: 0.9286 - 8ms/epoch - 8ms/step\n",
            "Epoch 52/100\n",
            "1/1 - 0s - loss: 0.3967 - accuracy: 0.9286 - 17ms/epoch - 17ms/step\n",
            "Epoch 53/100\n",
            "1/1 - 0s - loss: 0.3750 - accuracy: 0.9286 - 12ms/epoch - 12ms/step\n",
            "Epoch 54/100\n",
            "1/1 - 0s - loss: 0.3544 - accuracy: 0.9286 - 7ms/epoch - 7ms/step\n",
            "Epoch 55/100\n",
            "1/1 - 0s - loss: 0.3349 - accuracy: 0.9286 - 7ms/epoch - 7ms/step\n",
            "Epoch 56/100\n",
            "1/1 - 0s - loss: 0.3165 - accuracy: 0.9286 - 6ms/epoch - 6ms/step\n",
            "Epoch 57/100\n",
            "1/1 - 0s - loss: 0.2992 - accuracy: 0.9286 - 7ms/epoch - 7ms/step\n",
            "Epoch 58/100\n",
            "1/1 - 0s - loss: 0.2829 - accuracy: 0.9286 - 7ms/epoch - 7ms/step\n",
            "Epoch 59/100\n",
            "1/1 - 0s - loss: 0.2675 - accuracy: 0.9286 - 10ms/epoch - 10ms/step\n",
            "Epoch 60/100\n",
            "1/1 - 0s - loss: 0.2529 - accuracy: 0.9286 - 10ms/epoch - 10ms/step\n",
            "Epoch 61/100\n",
            "1/1 - 0s - loss: 0.2392 - accuracy: 0.9286 - 8ms/epoch - 8ms/step\n",
            "Epoch 62/100\n",
            "1/1 - 0s - loss: 0.2264 - accuracy: 1.0000 - 10ms/epoch - 10ms/step\n",
            "Epoch 63/100\n",
            "1/1 - 0s - loss: 0.2143 - accuracy: 1.0000 - 10ms/epoch - 10ms/step\n",
            "Epoch 64/100\n",
            "1/1 - 0s - loss: 0.2029 - accuracy: 1.0000 - 9ms/epoch - 9ms/step\n",
            "Epoch 65/100\n",
            "1/1 - 0s - loss: 0.1921 - accuracy: 1.0000 - 8ms/epoch - 8ms/step\n",
            "Epoch 66/100\n",
            "1/1 - 0s - loss: 0.1820 - accuracy: 1.0000 - 8ms/epoch - 8ms/step\n",
            "Epoch 67/100\n",
            "1/1 - 0s - loss: 0.1725 - accuracy: 1.0000 - 10ms/epoch - 10ms/step\n",
            "Epoch 68/100\n",
            "1/1 - 0s - loss: 0.1636 - accuracy: 1.0000 - 11ms/epoch - 11ms/step\n",
            "Epoch 69/100\n",
            "1/1 - 0s - loss: 0.1552 - accuracy: 1.0000 - 9ms/epoch - 9ms/step\n",
            "Epoch 70/100\n",
            "1/1 - 0s - loss: 0.1473 - accuracy: 1.0000 - 9ms/epoch - 9ms/step\n",
            "Epoch 71/100\n",
            "1/1 - 0s - loss: 0.1398 - accuracy: 1.0000 - 8ms/epoch - 8ms/step\n",
            "Epoch 72/100\n",
            "1/1 - 0s - loss: 0.1328 - accuracy: 1.0000 - 8ms/epoch - 8ms/step\n",
            "Epoch 73/100\n",
            "1/1 - 0s - loss: 0.1262 - accuracy: 1.0000 - 9ms/epoch - 9ms/step\n",
            "Epoch 74/100\n",
            "1/1 - 0s - loss: 0.1200 - accuracy: 1.0000 - 8ms/epoch - 8ms/step\n",
            "Epoch 75/100\n",
            "1/1 - 0s - loss: 0.1141 - accuracy: 1.0000 - 8ms/epoch - 8ms/step\n",
            "Epoch 76/100\n",
            "1/1 - 0s - loss: 0.1086 - accuracy: 1.0000 - 8ms/epoch - 8ms/step\n",
            "Epoch 77/100\n",
            "1/1 - 0s - loss: 0.1034 - accuracy: 1.0000 - 9ms/epoch - 9ms/step\n",
            "Epoch 78/100\n",
            "1/1 - 0s - loss: 0.0985 - accuracy: 1.0000 - 8ms/epoch - 8ms/step\n",
            "Epoch 79/100\n",
            "1/1 - 0s - loss: 0.0939 - accuracy: 1.0000 - 9ms/epoch - 9ms/step\n",
            "Epoch 80/100\n",
            "1/1 - 0s - loss: 0.0896 - accuracy: 1.0000 - 9ms/epoch - 9ms/step\n",
            "Epoch 81/100\n",
            "1/1 - 0s - loss: 0.0854 - accuracy: 1.0000 - 11ms/epoch - 11ms/step\n",
            "Epoch 82/100\n",
            "1/1 - 0s - loss: 0.0816 - accuracy: 1.0000 - 9ms/epoch - 9ms/step\n",
            "Epoch 83/100\n",
            "1/1 - 0s - loss: 0.0779 - accuracy: 1.0000 - 9ms/epoch - 9ms/step\n",
            "Epoch 84/100\n",
            "1/1 - 0s - loss: 0.0744 - accuracy: 1.0000 - 12ms/epoch - 12ms/step\n",
            "Epoch 85/100\n",
            "1/1 - 0s - loss: 0.0711 - accuracy: 1.0000 - 10ms/epoch - 10ms/step\n",
            "Epoch 86/100\n",
            "1/1 - 0s - loss: 0.0680 - accuracy: 1.0000 - 9ms/epoch - 9ms/step\n",
            "Epoch 87/100\n",
            "1/1 - 0s - loss: 0.0650 - accuracy: 1.0000 - 8ms/epoch - 8ms/step\n",
            "Epoch 88/100\n",
            "1/1 - 0s - loss: 0.0622 - accuracy: 1.0000 - 6ms/epoch - 6ms/step\n",
            "Epoch 89/100\n",
            "1/1 - 0s - loss: 0.0596 - accuracy: 1.0000 - 7ms/epoch - 7ms/step\n",
            "Epoch 90/100\n",
            "1/1 - 0s - loss: 0.0571 - accuracy: 1.0000 - 7ms/epoch - 7ms/step\n",
            "Epoch 91/100\n",
            "1/1 - 0s - loss: 0.0547 - accuracy: 1.0000 - 6ms/epoch - 6ms/step\n",
            "Epoch 92/100\n",
            "1/1 - 0s - loss: 0.0524 - accuracy: 1.0000 - 5ms/epoch - 5ms/step\n",
            "Epoch 93/100\n",
            "1/1 - 0s - loss: 0.0503 - accuracy: 1.0000 - 9ms/epoch - 9ms/step\n",
            "Epoch 94/100\n",
            "1/1 - 0s - loss: 0.0482 - accuracy: 1.0000 - 9ms/epoch - 9ms/step\n",
            "Epoch 95/100\n",
            "1/1 - 0s - loss: 0.0463 - accuracy: 1.0000 - 8ms/epoch - 8ms/step\n",
            "Epoch 96/100\n",
            "1/1 - 0s - loss: 0.0445 - accuracy: 1.0000 - 12ms/epoch - 12ms/step\n",
            "Epoch 97/100\n",
            "1/1 - 0s - loss: 0.0427 - accuracy: 1.0000 - 8ms/epoch - 8ms/step\n",
            "Epoch 98/100\n",
            "1/1 - 0s - loss: 0.0411 - accuracy: 1.0000 - 7ms/epoch - 7ms/step\n",
            "Epoch 99/100\n",
            "1/1 - 0s - loss: 0.0395 - accuracy: 1.0000 - 7ms/epoch - 7ms/step\n",
            "Epoch 100/100\n",
            "1/1 - 0s - loss: 0.0380 - accuracy: 1.0000 - 7ms/epoch - 7ms/step\n"
          ]
        },
        {
          "output_type": "execute_result",
          "data": {
            "text/plain": [
              "<keras.src.callbacks.History at 0x7d92f4451e10>"
            ]
          },
          "metadata": {},
          "execution_count": 5
        }
      ],
      "source": [
        "# Build the RNN model\n",
        "model = tf.keras.Sequential([\n",
        "    tf.keras.layers.Embedding(total_words, 50, input_length=max_sequence_length - 1),\n",
        "    tf.keras.layers.SimpleRNN(100),\n",
        "    tf.keras.layers.Dense(total_words, activation='softmax')\n",
        "])\n",
        "\n",
        "model.compile(optimizer='adam', loss='categorical_crossentropy', metrics=['accuracy'])\n",
        "\n",
        "# Train the model\n",
        "model.fit(X, y, epochs=100, verbose=2)"
      ]
    },
    {
      "cell_type": "code",
      "source": [
        "import numpy as np\n",
        "\n",
        "# Function to generate text based on seed text\n",
        "def generate_text(seed_text, next_words, model, max_sequence_length):\n",
        "    for _ in range(next_words):\n",
        "        token_list = tokenizer.texts_to_sequences([seed_text])[0]\n",
        "        token_list = pad_sequences([token_list], maxlen=max_sequence_length-1, padding='pre')\n",
        "        predicted_probs = model.predict(token_list, verbose=0)[0]\n",
        "\n",
        "        # Get the index of the word with the highest probability\n",
        "        predicted_index = np.argmax(predicted_probs)\n",
        "\n",
        "        # Convert the index back to the word\n",
        "        output_word = \"\"\n",
        "        for word, index in tokenizer.word_index.items():\n",
        "            if index == predicted_index:\n",
        "                output_word = word\n",
        "                break\n",
        "\n",
        "        seed_text += \" \" + output_word\n",
        "\n",
        "    return seed_text"
      ],
      "metadata": {
        "id": "3N8JSb5faRAj"
      },
      "execution_count": 8,
      "outputs": []
    },
    {
      "cell_type": "code",
      "source": [
        "generated_text = generate_text(\"Tensorflow\", 5, model, max_sequence_length)\n",
        "print(\"Generated Text:\", generated_text)"
      ],
      "metadata": {
        "colab": {
          "base_uri": "https://localhost:8080/"
        },
        "id": "Tu9S-7NEa-tF",
        "outputId": "32a62422-a780-4dc5-a974-e9dc4796d463"
      },
      "execution_count": 10,
      "outputs": [
        {
          "output_type": "stream",
          "name": "stdout",
          "text": [
            "Generated Text: Tensorflow is a deep learning framework\n"
          ]
        }
      ]
    }
  ]
}