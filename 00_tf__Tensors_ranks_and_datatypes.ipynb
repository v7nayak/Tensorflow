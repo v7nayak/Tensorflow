{
  "nbformat": 4,
  "nbformat_minor": 0,
  "metadata": {
    "colab": {
      "provenance": []
    },
    "kernelspec": {
      "name": "python3",
      "display_name": "Python 3"
    },
    "language_info": {
      "name": "python"
    }
  },
  "cells": [
    {
      "cell_type": "markdown",
      "source": [
        "Scalars, Vectors, 1-D, 2-D, 3-D tensors\n",
        "\n",
        "Constants and Variables\n",
        "\n",
        "Creating random tensors\n"
      ],
      "metadata": {
        "id": "zOKbvwHBhFgm"
      }
    },
    {
      "cell_type": "code",
      "source": [
        "### To concatenate two or more values, use commas(,) instead of the plus sign (+).\n",
        "\n",
        "### Add \" .numpy. \" to shorten the output for certain commands such as \"tens1.size.numpy\""
      ],
      "metadata": {
        "id": "vlpEgqdu9Iql"
      },
      "execution_count": null,
      "outputs": []
    },
    {
      "cell_type": "code",
      "source": [
        "import numpy as np\n",
        "\n",
        "tens1 = tf.constant([[1,2,3],[4,5,6]])\n",
        "tf.size(tens1), \"with .numpy() \", tf.size(tens1).numpy()"
      ],
      "metadata": {
        "colab": {
          "base_uri": "https://localhost:8080/"
        },
        "id": "jfUf2P3P9ZW2",
        "outputId": "370b5b74-516e-43a2-a1b5-4bbbbca0e402"
      },
      "execution_count": null,
      "outputs": [
        {
          "output_type": "execute_result",
          "data": {
            "text/plain": [
              "(<tf.Tensor: shape=(), dtype=int32, numpy=6>, 'with .numpy() ', 6)"
            ]
          },
          "metadata": {},
          "execution_count": 83
        }
      ]
    },
    {
      "cell_type": "code",
      "execution_count": null,
      "metadata": {
        "id": "C7QMzB91YW8i",
        "colab": {
          "base_uri": "https://localhost:8080/"
        },
        "outputId": "8ddfd1fa-9784-4ea1-ba45-d23902d7b7fb"
      },
      "outputs": [
        {
          "output_type": "stream",
          "name": "stdout",
          "text": [
            "2.15.0\n"
          ]
        }
      ],
      "source": [
        "import tensorflow as tf\n",
        "print(tf.__version__)"
      ]
    },
    {
      "cell_type": "code",
      "source": [
        "scalar = tf.constant(7)\n",
        "scalar"
      ],
      "metadata": {
        "id": "rEcdfnziadpZ",
        "colab": {
          "base_uri": "https://localhost:8080/"
        },
        "outputId": "dcfce5fe-e2c8-4c13-b3b6-570f8bcae40d"
      },
      "execution_count": null,
      "outputs": [
        {
          "output_type": "execute_result",
          "data": {
            "text/plain": [
              "<tf.Tensor: shape=(), dtype=int32, numpy=7>"
            ]
          },
          "metadata": {},
          "execution_count": 3
        }
      ]
    },
    {
      "cell_type": "code",
      "source": [
        "scalar.ndim"
      ],
      "metadata": {
        "id": "jDZybwzEahJ1",
        "colab": {
          "base_uri": "https://localhost:8080/"
        },
        "outputId": "a5e07ed3-0968-4e51-fa46-a95a524d3487"
      },
      "execution_count": null,
      "outputs": [
        {
          "output_type": "execute_result",
          "data": {
            "text/plain": [
              "0"
            ]
          },
          "metadata": {},
          "execution_count": 4
        }
      ]
    },
    {
      "cell_type": "code",
      "source": [
        "tensor1 = tf.constant([1])\n",
        "tensor2 = tf.constant([1,2])\n",
        "tensor3 = tf.constant([[1,2],[3,4]])\n",
        "# tensor1.ndim\n",
        "# tensor2.ndim\n",
        "tensor3.ndim"
      ],
      "metadata": {
        "id": "2mLcTr5OavIS",
        "colab": {
          "base_uri": "https://localhost:8080/"
        },
        "outputId": "4752ec3c-c74f-4fbf-f550-646ac7cecf14"
      },
      "execution_count": null,
      "outputs": [
        {
          "output_type": "execute_result",
          "data": {
            "text/plain": [
              "2"
            ]
          },
          "metadata": {},
          "execution_count": 5
        }
      ]
    },
    {
      "cell_type": "code",
      "source": [
        "#specifying datatype\n",
        "myMatrix = tf.constant([[1,2,3.7],[4.5,5.4,6.3]], dtype = tf.float32)\n",
        "myMatrix.ndim"
      ],
      "metadata": {
        "id": "TGJIiWY6ebnQ",
        "colab": {
          "base_uri": "https://localhost:8080/"
        },
        "outputId": "5861f694-34a7-4aca-9886-43750d6a7734"
      },
      "execution_count": null,
      "outputs": [
        {
          "output_type": "execute_result",
          "data": {
            "text/plain": [
              "2"
            ]
          },
          "metadata": {},
          "execution_count": 6
        }
      ]
    },
    {
      "cell_type": "code",
      "source": [
        "#datatype automatically changes according to allocation\n",
        "matrix2 = tf.constant([[1,2,3.4],[4.3,5.4,6.3]])\n",
        "matrix2.dtype"
      ],
      "metadata": {
        "id": "RaAePAP_edXb",
        "colab": {
          "base_uri": "https://localhost:8080/"
        },
        "outputId": "9c6ed382-a8c7-471d-f9af-c81f607276cd"
      },
      "execution_count": null,
      "outputs": [
        {
          "output_type": "execute_result",
          "data": {
            "text/plain": [
              "tf.float32"
            ]
          },
          "metadata": {},
          "execution_count": 7
        }
      ]
    },
    {
      "cell_type": "code",
      "source": [
        "#creating a degree 3 tensor\n",
        "d3tensor = tf.constant([[[1,23,4],\n",
        "                        [4,5,6],\n",
        "                       [7,8,9]]\n",
        "                        ,[[9,10,11],\n",
        "                        [12,13,14],\n",
        "                        [13,14,15]]])\n",
        "# d3tensor\n",
        "d3tensor.ndim"
      ],
      "metadata": {
        "id": "CorPQiJXetqN",
        "colab": {
          "base_uri": "https://localhost:8080/"
        },
        "outputId": "57cbd02c-4650-459a-d7e0-a2b565dc4e95"
      },
      "execution_count": null,
      "outputs": [
        {
          "output_type": "execute_result",
          "data": {
            "text/plain": [
              "3"
            ]
          },
          "metadata": {},
          "execution_count": 8
        }
      ]
    },
    {
      "cell_type": "code",
      "source": [
        "a = tf.Variable([10,7])\n",
        "a.assign([2,9])\n",
        "a"
      ],
      "metadata": {
        "id": "hXNBUueqhRT-",
        "colab": {
          "base_uri": "https://localhost:8080/"
        },
        "outputId": "02f0f147-fca6-4c0f-c531-2073fc2bb38b"
      },
      "execution_count": null,
      "outputs": [
        {
          "output_type": "execute_result",
          "data": {
            "text/plain": [
              "<tf.Variable 'Variable:0' shape=(2,) dtype=int32, numpy=array([2, 9], dtype=int32)>"
            ]
          },
          "metadata": {},
          "execution_count": 9
        }
      ]
    },
    {
      "cell_type": "code",
      "source": [
        "#creating a random tensor\n",
        "\n",
        "random1 = tf.random.Generator.from_seed(seed=32)\n",
        "random1 = random1.normal(shape = (2,3))\n",
        "\n",
        "\n",
        "random2 = tf.random.Generator.from_seed(seed=42)\n",
        "random2 = random2.normal (shape = (2,3))\n",
        "\n",
        "random1, random2, random1 == random2\n",
        "\n",
        "##IMPORTANT\n",
        "\n",
        "# If you create two randoms tensors with the same seed value,\n",
        "# and the same shape, they will have the same elements."
      ],
      "metadata": {
        "id": "7TEyR0bHk7KD",
        "colab": {
          "base_uri": "https://localhost:8080/"
        },
        "outputId": "a07a43bf-8fb2-4462-abd8-b836c7c80aee"
      },
      "execution_count": null,
      "outputs": [
        {
          "output_type": "execute_result",
          "data": {
            "text/plain": [
              "(<tf.Tensor: shape=(2, 3), dtype=float32, numpy=\n",
              " array([[ 0.7901182,  1.585549 ,  0.4356279],\n",
              "        [ 0.2364518, -0.1589871,  1.302304 ]], dtype=float32)>,\n",
              " <tf.Tensor: shape=(2, 3), dtype=float32, numpy=\n",
              " array([[-0.7565803 , -0.06854702,  0.07595026],\n",
              "        [-1.2573844 , -0.23193763, -1.8107855 ]], dtype=float32)>,\n",
              " <tf.Tensor: shape=(2, 3), dtype=bool, numpy=\n",
              " array([[False, False, False],\n",
              "        [False, False, False]])>)"
            ]
          },
          "metadata": {},
          "execution_count": 12
        }
      ]
    },
    {
      "cell_type": "code",
      "source": [
        "#Shuffling a tensor\n",
        "\n",
        "mytensor = tf.constant([[10,3],[5,2],[7,1]])\n",
        "\n",
        "\n",
        "##Setting a random seed value\n",
        "tf.random.set_seed(seed = 42)\n",
        "tf.random.shuffle(mytensor, seed = 42)\n",
        "\n",
        "##If both the global (Line 2) and the operation level seed\n",
        "##values are the same, then we end up with the same tensor\n",
        "\n",
        "# To shuffle, the sequence of elements try using diff values\n",
        "# for global seed and the operational level seed.\n",
        "\n",
        "#OR, use no seed at all. That way, tensorflow will automatically\n",
        "#pick some random seed and shuffle your tensor elements based on\n",
        "#that distribution."
      ],
      "metadata": {
        "colab": {
          "base_uri": "https://localhost:8080/"
        },
        "id": "vXZbOs_jp12x",
        "outputId": "96c0717a-5205-4362-cacf-7edd62503111"
      },
      "execution_count": null,
      "outputs": [
        {
          "output_type": "execute_result",
          "data": {
            "text/plain": [
              "<tf.Tensor: shape=(3, 2), dtype=int32, numpy=\n",
              "array([[ 5,  2],\n",
              "       [ 7,  1],\n",
              "       [10,  3]], dtype=int32)>"
            ]
          },
          "metadata": {},
          "execution_count": 14
        }
      ]
    },
    {
      "cell_type": "code",
      "source": [
        " #Creating a tensor filled with Ones\n",
        "\n",
        " myOnes = tf.ones(shape=(2,3))\n",
        " myOnes"
      ],
      "metadata": {
        "colab": {
          "base_uri": "https://localhost:8080/"
        },
        "id": "uoQHT3Usr2yr",
        "outputId": "99d86ac3-7cd2-4ec4-be5c-bf9969fdcc85"
      },
      "execution_count": null,
      "outputs": [
        {
          "output_type": "execute_result",
          "data": {
            "text/plain": [
              "<tf.Tensor: shape=(2, 3), dtype=float32, numpy=\n",
              "array([[1., 1., 1.],\n",
              "       [1., 1., 1.]], dtype=float32)>"
            ]
          },
          "metadata": {},
          "execution_count": 64
        }
      ]
    },
    {
      "cell_type": "code",
      "source": [
        "#Converting numpy arrays into tensors\n",
        "\n",
        "## Difference between a numpy array and a tensor\n",
        "## is that a tensor can run on a GPU, which is\n",
        "## computationally faster\n",
        "\n",
        "## AND tensorflow uses computation graph, hence\n",
        "## resulting in faster computations\n",
        "\n",
        "## Tensorflow also comes with the ability to\n",
        "## compute backward prop and gradients too,\n",
        "## just by observing the flow of data during\n",
        "## forward prop in the algorithm\n",
        "\n",
        "import numpy as np\n",
        "\n",
        "A = np.arange(1,25);\n",
        "\n",
        "A"
      ],
      "metadata": {
        "colab": {
          "base_uri": "https://localhost:8080/"
        },
        "id": "8Z2_NdiOubmP",
        "outputId": "65b53666-4c22-4269-a764-9765c4aaa71d"
      },
      "execution_count": null,
      "outputs": [
        {
          "output_type": "execute_result",
          "data": {
            "text/plain": [
              "array([ 1,  2,  3,  4,  5,  6,  7,  8,  9, 10, 11, 12, 13, 14, 15, 16, 17,\n",
              "       18, 19, 20, 21, 22, 23, 24])"
            ]
          },
          "metadata": {},
          "execution_count": 69
        }
      ]
    },
    {
      "cell_type": "code",
      "source": [
        "tensA = tf.constant(A, shape = (1,3,8))\n",
        "tensA.numpy(), tensA.ndim"
      ],
      "metadata": {
        "colab": {
          "base_uri": "https://localhost:8080/"
        },
        "id": "4FfzUk9ZvyM6",
        "outputId": "b33676e8-1fbd-4dbe-ea83-73e9e4f81444"
      },
      "execution_count": null,
      "outputs": [
        {
          "output_type": "execute_result",
          "data": {
            "text/plain": [
              "(array([[[ 1,  2,  3,  4,  5,  6,  7,  8],\n",
              "         [ 9, 10, 11, 12, 13, 14, 15, 16],\n",
              "         [17, 18, 19, 20, 21, 22, 23, 24]]]),\n",
              " 3)"
            ]
          },
          "metadata": {},
          "execution_count": 72
        }
      ]
    },
    {
      "cell_type": "code",
      "source": [
        "tensA.shape"
      ],
      "metadata": {
        "colab": {
          "base_uri": "https://localhost:8080/"
        },
        "id": "m-gTnwRoynSP",
        "outputId": "d360f74a-dcd5-4a03-9743-ed2a4364605d"
      },
      "execution_count": null,
      "outputs": [
        {
          "output_type": "execute_result",
          "data": {
            "text/plain": [
              "TensorShape([1, 3, 8])"
            ]
          },
          "metadata": {},
          "execution_count": 40
        }
      ]
    },
    {
      "cell_type": "code",
      "source": [
        "tf.shape(tensA)"
      ],
      "metadata": {
        "colab": {
          "base_uri": "https://localhost:8080/"
        },
        "id": "PDo6R8aAyvg5",
        "outputId": "22367f01-2769-444c-c4ea-b0739887050a"
      },
      "execution_count": null,
      "outputs": [
        {
          "output_type": "execute_result",
          "data": {
            "text/plain": [
              "<tf.Tensor: shape=(3,), dtype=int32, numpy=array([1, 3, 8], dtype=int32)>"
            ]
          },
          "metadata": {},
          "execution_count": 74
        }
      ]
    },
    {
      "cell_type": "code",
      "source": [
        "tf.size(tensA)"
      ],
      "metadata": {
        "colab": {
          "base_uri": "https://localhost:8080/"
        },
        "id": "IzFShxP2yx1z",
        "outputId": "cbb4fd80-0628-42b7-9725-fad41d9938bd"
      },
      "execution_count": null,
      "outputs": [
        {
          "output_type": "execute_result",
          "data": {
            "text/plain": [
              "<tf.Tensor: shape=(), dtype=int32, numpy=24>"
            ]
          },
          "metadata": {},
          "execution_count": 78
        }
      ]
    },
    {
      "cell_type": "code",
      "source": [
        "# Trying to find the first two elements of every dimension of a tensor with dimensions (2,3,4,5)\n",
        "\n",
        "A = np.arange(1,121)\n",
        "\n",
        "myT = tf.constant(A)\n",
        "myTnew = tf.reshape(A,(2,3,4,5))\n",
        "print(myTnew[:2,:2,:2,:2])\n",
        "\n",
        "\n",
        "#Trying to print the first elements from all dimensions except the final one\n",
        "\n",
        "print(myTnew[:1,:1,:1,:])"
      ],
      "metadata": {
        "colab": {
          "base_uri": "https://localhost:8080/"
        },
        "id": "-xPpXpQd27WS",
        "outputId": "b75db91b-905e-4150-e154-bc1ed811dd07"
      },
      "execution_count": null,
      "outputs": [
        {
          "output_type": "stream",
          "name": "stdout",
          "text": [
            "tf.Tensor([[[[1 2 3 4 5]]]], shape=(1, 1, 1, 5), dtype=int64)\n"
          ]
        }
      ]
    },
    {
      "cell_type": "code",
      "source": [
        "# Creating a Rank 3 tensor out of a Rank-2 tensor\n",
        "\n",
        "rank2 = tf.constant([[2,3],[4,5],[6,7]])\n",
        "rank2\n",
        "\n",
        "rank3 = tf.reshape(rank2, (1,1,6))\n",
        "rank3"
      ],
      "metadata": {
        "colab": {
          "base_uri": "https://localhost:8080/"
        },
        "id": "-0vg_Qti7Qms",
        "outputId": "bd2f7f6e-ab95-4be6-d202-dcf42784574c"
      },
      "execution_count": null,
      "outputs": [
        {
          "output_type": "execute_result",
          "data": {
            "text/plain": [
              "<tf.Tensor: shape=(1, 1, 6), dtype=int32, numpy=array([[[2, 3, 4, 5, 6, 7]]], dtype=int32)>"
            ]
          },
          "metadata": {},
          "execution_count": 60
        }
      ]
    }
  ]
}