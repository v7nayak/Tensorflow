{
  "nbformat": 4,
  "nbformat_minor": 0,
  "metadata": {
    "colab": {
      "provenance": []
    },
    "kernelspec": {
      "name": "python3",
      "display_name": "Python 3"
    },
    "language_info": {
      "name": "python"
    }
  },
  "cells": [
    {
      "cell_type": "code",
      "execution_count": 1,
      "metadata": {
        "id": "hkZm_SKx5tBS"
      },
      "outputs": [],
      "source": [
        "import os\n",
        "os.environ['TF_CPP_MIN_LOG_LEVEL'] = '2'\n",
        "\n",
        "import tensorflow as tf\n",
        "from tensorflow import keras\n",
        "from tensorflow.keras import layers\n",
        "from tensorflow.keras.datasets import cifar10"
      ]
    },
    {
      "cell_type": "code",
      "source": [
        "from tensorflow.keras.models import Sequential\n",
        "\n",
        "(x_train, y_train), (x_test, y_test) = cifar10.load_data()\n",
        "\n",
        "x_train = x_train.astype(\"float32\") / 255.0\n",
        "x_test = x_test.astype(\"float32\") / 255.0\n",
        "\n",
        "model = Sequential ([\n",
        "    keras.Input(shape = (32, 32, 3)),\n",
        "    layers.Conv2D(32, 3, padding = 'valid', activation = 'relu'),\n",
        "    layers.MaxPooling2D(pool_size = (2,2)),\n",
        "    layers.Conv2D(64, 3, activation = 'relu'),\n",
        "    layers.MaxPooling2D(),\n",
        "    layers.Conv2D(128, 3, activation = 'relu'),\n",
        "    layers.Flatten(),\n",
        "    layers.Dense(64, activation = 'relu'),\n",
        "    layers.Dense(10)\n",
        "])\n",
        "\n",
        "print(model.summary())"
      ],
      "metadata": {
        "colab": {
          "base_uri": "https://localhost:8080/"
        },
        "id": "Oqxha3nn6TmF",
        "outputId": "7828f31c-a330-4032-82c0-5e9d0ad3ad1a"
      },
      "execution_count": 6,
      "outputs": [
        {
          "output_type": "stream",
          "name": "stdout",
          "text": [
            "Model: \"sequential_2\"\n",
            "_________________________________________________________________\n",
            " Layer (type)                Output Shape              Param #   \n",
            "=================================================================\n",
            " conv2d_2 (Conv2D)           (None, 30, 30, 32)        896       \n",
            "                                                                 \n",
            " max_pooling2d_2 (MaxPoolin  (None, 15, 15, 32)        0         \n",
            " g2D)                                                            \n",
            "                                                                 \n",
            " conv2d_3 (Conv2D)           (None, 13, 13, 64)        18496     \n",
            "                                                                 \n",
            " max_pooling2d_3 (MaxPoolin  (None, 6, 6, 64)          0         \n",
            " g2D)                                                            \n",
            "                                                                 \n",
            " conv2d_4 (Conv2D)           (None, 4, 4, 128)         73856     \n",
            "                                                                 \n",
            " flatten (Flatten)           (None, 2048)              0         \n",
            "                                                                 \n",
            " dense (Dense)               (None, 64)                131136    \n",
            "                                                                 \n",
            " dense_1 (Dense)             (None, 10)                650       \n",
            "                                                                 \n",
            "=================================================================\n",
            "Total params: 225034 (879.04 KB)\n",
            "Trainable params: 225034 (879.04 KB)\n",
            "Non-trainable params: 0 (0.00 Byte)\n",
            "_________________________________________________________________\n",
            "None\n"
          ]
        }
      ]
    },
    {
      "cell_type": "code",
      "source": [
        "model.compile(\n",
        "    loss = keras.losses.SparseCategoricalCrossentropy(from_logits = True),\n",
        "    optimizer = keras.optimizers.Adam(lr = 3e-4),\n",
        "    metrics = ['accuracy']\n",
        ")\n",
        "\n",
        "model.fit(x_train, y_train, batch_size=64, epochs=10, verbose=2)\n",
        "model.evaluate(x_test, y_test, batch_size = 64, verbose = 2)"
      ],
      "metadata": {
        "colab": {
          "base_uri": "https://localhost:8080/"
        },
        "id": "e2fQD_hW8yYZ",
        "outputId": "dd31e15d-39ba-4984-812b-98410450f341"
      },
      "execution_count": 7,
      "outputs": [
        {
          "output_type": "stream",
          "name": "stderr",
          "text": [
            "WARNING:absl:`lr` is deprecated in Keras optimizer, please use `learning_rate` or use the legacy optimizer, e.g.,tf.keras.optimizers.legacy.Adam.\n"
          ]
        },
        {
          "output_type": "stream",
          "name": "stdout",
          "text": [
            "Epoch 1/10\n",
            "782/782 - 62s - loss: 1.5958 - accuracy: 0.4142 - 62s/epoch - 79ms/step\n",
            "Epoch 2/10\n",
            "782/782 - 58s - loss: 1.2344 - accuracy: 0.5582 - 58s/epoch - 74ms/step\n",
            "Epoch 3/10\n",
            "782/782 - 59s - loss: 1.0605 - accuracy: 0.6266 - 59s/epoch - 76ms/step\n",
            "Epoch 4/10\n",
            "782/782 - 59s - loss: 0.9562 - accuracy: 0.6636 - 59s/epoch - 76ms/step\n",
            "Epoch 5/10\n",
            "782/782 - 59s - loss: 0.8744 - accuracy: 0.6946 - 59s/epoch - 75ms/step\n",
            "Epoch 6/10\n",
            "782/782 - 59s - loss: 0.8064 - accuracy: 0.7197 - 59s/epoch - 75ms/step\n",
            "Epoch 7/10\n",
            "782/782 - 58s - loss: 0.7543 - accuracy: 0.7371 - 58s/epoch - 74ms/step\n",
            "Epoch 8/10\n",
            "782/782 - 58s - loss: 0.7053 - accuracy: 0.7535 - 58s/epoch - 74ms/step\n",
            "Epoch 9/10\n",
            "782/782 - 58s - loss: 0.6620 - accuracy: 0.7683 - 58s/epoch - 74ms/step\n",
            "Epoch 10/10\n",
            "782/782 - 58s - loss: 0.6220 - accuracy: 0.7808 - 58s/epoch - 75ms/step\n",
            "157/157 - 3s - loss: 0.8592 - accuracy: 0.7118 - 3s/epoch - 22ms/step\n"
          ]
        },
        {
          "output_type": "execute_result",
          "data": {
            "text/plain": [
              "[0.8591809272766113, 0.7117999792098999]"
            ]
          },
          "metadata": {},
          "execution_count": 7
        }
      ]
    }
  ]
}