{
  "nbformat": 4,
  "nbformat_minor": 0,
  "metadata": {
    "colab": {
      "provenance": []
    },
    "kernelspec": {
      "name": "python3",
      "display_name": "Python 3"
    },
    "language_info": {
      "name": "python"
    }
  },
  "cells": [
    {
      "cell_type": "code",
      "source": [
        "import tensorflow as tf\n",
        "import numpy as np"
      ],
      "metadata": {
        "id": "ohBI3CdCPDjE"
      },
      "execution_count": null,
      "outputs": []
    },
    {
      "cell_type": "code",
      "execution_count": null,
      "metadata": {
        "colab": {
          "base_uri": "https://localhost:8080/"
        },
        "id": "gnBEZts5J24S",
        "outputId": "b5424b09-b65d-43fe-889a-4768e8a82044"
      },
      "outputs": [
        {
          "output_type": "execute_result",
          "data": {
            "text/plain": [
              "<tf.Tensor: shape=(2, 1), dtype=int32, numpy=\n",
              "array([[ 76],\n",
              "       [100]], dtype=int32)>"
            ]
          },
          "metadata": {},
          "execution_count": 2
        }
      ],
      "source": [
        "# Matrix Mutltiplication\n",
        "\n",
        "A = tf.constant([[1,2],\n",
        "                 [3,4],\n",
        "                 [5,6]])\n",
        "B = tf.constant([[7],\n",
        "                 [8],\n",
        "                 [9]])\n",
        "\n",
        "A_transpose = tf.transpose(A)\n",
        "# A_transpose\n",
        "\n",
        "product = tf.matmul(A_transpose, B)\n",
        "product"
      ]
    },
    {
      "cell_type": "code",
      "source": [
        "#Finding sum, max, min, var, stdv\n",
        "\n",
        "E = tf.random.Generator.from_seed(seed = 42)\n",
        "E = tf.constant(np.random.randint(0,12, size = 6))\n",
        "\n",
        "\n",
        "max = tf.reduce_max(E).numpy()\n",
        "min = tf.reduce_min(E).numpy()\n",
        "sum = tf.reduce_sum(E).numpy()\n",
        "\n",
        "E, max, min, sum"
      ],
      "metadata": {
        "colab": {
          "base_uri": "https://localhost:8080/"
        },
        "id": "4ZT2QcTiV-Io",
        "outputId": "b12d2266-a552-49b6-e6fa-4d8be7662511"
      },
      "execution_count": null,
      "outputs": [
        {
          "output_type": "execute_result",
          "data": {
            "text/plain": [
              "(<tf.Tensor: shape=(6,), dtype=int64, numpy=array([ 7,  9, 11,  6,  6,  1])>,\n",
              " 11,\n",
              " 1,\n",
              " 40)"
            ]
          },
          "metadata": {},
          "execution_count": 8
        }
      ]
    },
    {
      "cell_type": "code",
      "source": [
        "#Finding variance and standard deviation\n",
        "\n",
        "import tensorflow_probability as tfp\n",
        "\n",
        "var = tfp.stats.variance(E)\n",
        "var2 = tf.math.reduce_variance(tf.cast(E, dtype = tf.float32))\n",
        "\n",
        "std = tf.math.reduce_std(tf.cast(E, dtype = tf.float32))\n",
        "\n",
        "\n",
        "var.numpy(), var2.numpy(), std.numpy()\n",
        "\n"
      ],
      "metadata": {
        "colab": {
          "base_uri": "https://localhost:8080/"
        },
        "id": "DChcPFkVMbhk",
        "outputId": "3d5f3a13-b389-46d4-c5ca-c9fbc41443a7"
      },
      "execution_count": null,
      "outputs": [
        {
          "output_type": "execute_result",
          "data": {
            "text/plain": [
              "(10, 9.555556, 3.0912063)"
            ]
          },
          "metadata": {},
          "execution_count": 17
        }
      ]
    },
    {
      "cell_type": "code",
      "source": [
        "#Finding positional max and min\n",
        "\n",
        "F = tf.random.Generator.from_seed(seed = 42)\n",
        "F = F.uniform(shape = (5,4))\n",
        "\n",
        "F"
      ],
      "metadata": {
        "colab": {
          "base_uri": "https://localhost:8080/"
        },
        "id": "YX6BZ2sDM4_z",
        "outputId": "d707bff4-16f1-4525-90eb-4b61bd01a134"
      },
      "execution_count": null,
      "outputs": [
        {
          "output_type": "execute_result",
          "data": {
            "text/plain": [
              "<tf.Tensor: shape=(5, 4), dtype=float32, numpy=\n",
              "array([[0.7493447 , 0.73561966, 0.45230794, 0.49039817],\n",
              "       [0.1889317 , 0.52027524, 0.8736881 , 0.46921718],\n",
              "       [0.63932586, 0.6467117 , 0.96246755, 0.41009164],\n",
              "       [0.86540747, 0.8862978 , 0.27795732, 0.8857763 ],\n",
              "       [0.2179842 , 0.29115117, 0.03953862, 0.8136791 ]], dtype=float32)>"
            ]
          },
          "metadata": {},
          "execution_count": 24
        }
      ]
    },
    {
      "cell_type": "code",
      "source": [
        "tf.argmax(F)  #prints the index of the maximum value in F\n"
      ],
      "metadata": {
        "colab": {
          "base_uri": "https://localhost:8080/"
        },
        "id": "UG4qwgvjQVdM",
        "outputId": "3f05fbd1-62d8-4a80-fe4d-041c2c2af93a"
      },
      "execution_count": null,
      "outputs": [
        {
          "output_type": "execute_result",
          "data": {
            "text/plain": [
              "<tf.Tensor: shape=(4,), dtype=int64, numpy=array([3, 3, 2, 3])>"
            ]
          },
          "metadata": {},
          "execution_count": 28
        }
      ]
    },
    {
      "cell_type": "code",
      "source": [
        "tf.reduce_max(F)"
      ],
      "metadata": {
        "colab": {
          "base_uri": "https://localhost:8080/"
        },
        "id": "76rEVS07Q-pR",
        "outputId": "53e50efd-698e-4dd4-df5e-273ccb68a69b"
      },
      "execution_count": null,
      "outputs": [
        {
          "output_type": "execute_result",
          "data": {
            "text/plain": [
              "<tf.Tensor: shape=(), dtype=int32, numpy=0>"
            ]
          },
          "metadata": {},
          "execution_count": 32
        }
      ]
    },
    {
      "cell_type": "code",
      "source": [
        "#Squeezing a tensor\n",
        "\n",
        "G = tf.random.Generator.from_seed(seed = 42)\n",
        "G = G.uniform(shape = ([1,1,1,50]))\n",
        "\n",
        "G"
      ],
      "metadata": {
        "colab": {
          "base_uri": "https://localhost:8080/"
        },
        "id": "khbIzUSSR8rs",
        "outputId": "5106cfcf-b579-4802-c0a3-9b1f98378141"
      },
      "execution_count": null,
      "outputs": [
        {
          "output_type": "execute_result",
          "data": {
            "text/plain": [
              "<tf.Tensor: shape=(1, 1, 1, 50), dtype=float32, numpy=\n",
              "array([[[[0.7493447 , 0.73561966, 0.45230794, 0.49039817, 0.1889317 ,\n",
              "          0.52027524, 0.8736881 , 0.46921718, 0.63932586, 0.6467117 ,\n",
              "          0.96246755, 0.41009164, 0.86540747, 0.8862978 , 0.27795732,\n",
              "          0.8857763 , 0.2179842 , 0.29115117, 0.03953862, 0.8136791 ,\n",
              "          0.8139852 , 0.52180684, 0.12496924, 0.5488483 , 0.7755773 ,\n",
              "          0.6184403 , 0.24936223, 0.89341843, 0.28422844, 0.70332646,\n",
              "          0.2622137 , 0.4432162 , 0.466465  , 0.05981874, 0.40098202,\n",
              "          0.69292355, 0.1284684 , 0.22770369, 0.33691216, 0.5329138 ,\n",
              "          0.5914326 , 0.21738243, 0.5322075 , 0.05148339, 0.03951418,\n",
              "          0.41866875, 0.78939915, 0.04384279, 0.96955836, 0.49116182]]]],\n",
              "      dtype=float32)>"
            ]
          },
          "metadata": {},
          "execution_count": 35
        }
      ]
    },
    {
      "cell_type": "code",
      "source": [
        "G.shape"
      ],
      "metadata": {
        "colab": {
          "base_uri": "https://localhost:8080/"
        },
        "id": "KdxTGIoJSqZw",
        "outputId": "6a072858-07d0-4435-a76f-1a768b8ef823"
      },
      "execution_count": null,
      "outputs": [
        {
          "output_type": "execute_result",
          "data": {
            "text/plain": [
              "TensorShape([1, 1, 1, 50])"
            ]
          },
          "metadata": {},
          "execution_count": 36
        }
      ]
    },
    {
      "cell_type": "code",
      "source": [
        "G_sqzd = tf.squeeze(G)\n",
        "G_sqzd, G_sqzd.shape"
      ],
      "metadata": {
        "colab": {
          "base_uri": "https://localhost:8080/"
        },
        "id": "l6oahTHcSsLF",
        "outputId": "632ff3d5-f73e-4ec3-8a22-15ee235416e8"
      },
      "execution_count": null,
      "outputs": [
        {
          "output_type": "execute_result",
          "data": {
            "text/plain": [
              "(<tf.Tensor: shape=(50,), dtype=float32, numpy=\n",
              " array([0.7493447 , 0.73561966, 0.45230794, 0.49039817, 0.1889317 ,\n",
              "        0.52027524, 0.8736881 , 0.46921718, 0.63932586, 0.6467117 ,\n",
              "        0.96246755, 0.41009164, 0.86540747, 0.8862978 , 0.27795732,\n",
              "        0.8857763 , 0.2179842 , 0.29115117, 0.03953862, 0.8136791 ,\n",
              "        0.8139852 , 0.52180684, 0.12496924, 0.5488483 , 0.7755773 ,\n",
              "        0.6184403 , 0.24936223, 0.89341843, 0.28422844, 0.70332646,\n",
              "        0.2622137 , 0.4432162 , 0.466465  , 0.05981874, 0.40098202,\n",
              "        0.69292355, 0.1284684 , 0.22770369, 0.33691216, 0.5329138 ,\n",
              "        0.5914326 , 0.21738243, 0.5322075 , 0.05148339, 0.03951418,\n",
              "        0.41866875, 0.78939915, 0.04384279, 0.96955836, 0.49116182],\n",
              "       dtype=float32)>,\n",
              " TensorShape([50]))"
            ]
          },
          "metadata": {},
          "execution_count": 40
        }
      ]
    },
    {
      "cell_type": "code",
      "source": [
        "#One-hot encoding\n",
        "\n",
        "my_list = [0,1,2,3]\n",
        "\n",
        "encoded = tf.one_hot(my_list, depth = 4)\n",
        "encoded\n",
        "\n",
        "encoded2 = tf.one_hot(my_list, depth = 4, on_value = \"true\", off_value = \"false\")\n",
        "encoded2"
      ],
      "metadata": {
        "colab": {
          "base_uri": "https://localhost:8080/"
        },
        "id": "NKmuuPmrT01K",
        "outputId": "991788bc-9937-447e-8a6d-ffa901e4097a"
      },
      "execution_count": null,
      "outputs": [
        {
          "output_type": "execute_result",
          "data": {
            "text/plain": [
              "<tf.Tensor: shape=(4, 4), dtype=string, numpy=\n",
              "array([[b'true', b'false', b'false', b'false'],\n",
              "       [b'false', b'true', b'false', b'false'],\n",
              "       [b'false', b'false', b'true', b'false'],\n",
              "       [b'false', b'false', b'false', b'true']], dtype=object)>"
            ]
          },
          "metadata": {},
          "execution_count": 47
        }
      ]
    },
    {
      "cell_type": "code",
      "source": [
        "#Square, log, sqrt\n",
        "\n",
        "#Creating a new tensor\n",
        "\n",
        "H = tf.range(1,10)\n",
        "H"
      ],
      "metadata": {
        "colab": {
          "base_uri": "https://localhost:8080/"
        },
        "id": "bpT7wc-QUrqI",
        "outputId": "a2231c89-7298-4456-d1b2-6496c06c4d6c"
      },
      "execution_count": null,
      "outputs": [
        {
          "output_type": "execute_result",
          "data": {
            "text/plain": [
              "<tf.Tensor: shape=(9,), dtype=int32, numpy=array([1, 2, 3, 4, 5, 6, 7, 8, 9], dtype=int32)>"
            ]
          },
          "metadata": {},
          "execution_count": 50
        }
      ]
    },
    {
      "cell_type": "code",
      "source": [
        "sqd = tf.square(H)\n",
        "sqd"
      ],
      "metadata": {
        "colab": {
          "base_uri": "https://localhost:8080/"
        },
        "id": "aUhbOHsmU76b",
        "outputId": "1af3bf86-48f9-44b5-85f7-642e8c06d1cf"
      },
      "execution_count": null,
      "outputs": [
        {
          "output_type": "execute_result",
          "data": {
            "text/plain": [
              "<tf.Tensor: shape=(9,), dtype=int32, numpy=array([ 1,  4,  9, 16, 25, 36, 49, 64, 81], dtype=int32)>"
            ]
          },
          "metadata": {},
          "execution_count": 51
        }
      ]
    },
    {
      "cell_type": "code",
      "source": [
        "sqrt = tf.sqrt(tf.cast(H, dtype = tf.float32))\n",
        "sqrt = tf.reshape(sqrt, shape = (3,3))\n",
        "sqrt"
      ],
      "metadata": {
        "colab": {
          "base_uri": "https://localhost:8080/"
        },
        "id": "r01JxtCLVBGq",
        "outputId": "f7a9641b-dabc-4d4b-8142-51a654f373a2"
      },
      "execution_count": null,
      "outputs": [
        {
          "output_type": "execute_result",
          "data": {
            "text/plain": [
              "<tf.Tensor: shape=(3, 3), dtype=float32, numpy=\n",
              "array([[1.       , 1.4142135, 1.7320508],\n",
              "       [2.       , 2.236068 , 2.4494898],\n",
              "       [2.6457512, 2.828427 , 3.       ]], dtype=float32)>"
            ]
          },
          "metadata": {},
          "execution_count": 57
        }
      ]
    }
  ]
}