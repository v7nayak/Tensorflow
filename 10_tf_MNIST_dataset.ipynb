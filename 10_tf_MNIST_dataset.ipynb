{
  "nbformat": 4,
  "nbformat_minor": 0,
  "metadata": {
    "colab": {
      "provenance": []
    },
    "kernelspec": {
      "name": "python3",
      "display_name": "Python 3"
    },
    "language_info": {
      "name": "python"
    }
  },
  "cells": [
    {
      "cell_type": "code",
      "execution_count": 30,
      "metadata": {
        "id": "iHrN1K-8hzA3"
      },
      "outputs": [],
      "source": [
        "import os\n",
        "os.environ['TF_CPP_MIN_LOG_LEVEL'] = '2'\n",
        "\n",
        "import tensorflow as tf\n",
        "from tensorflow import keras\n",
        "from tensorflow.keras import layers\n",
        "from tensorflow.keras.datasets import mnist"
      ]
    },
    {
      "cell_type": "code",
      "source": [
        "(x_train, y_train), (x_test, y_test) = mnist.load_data()\n",
        "x_train = x_train.reshape(-1, 28*28).astype(\"float32\") / 255.0\n",
        "x_test = x_test.reshape(-1, 28*28).astype(\"float\") / 255.0"
      ],
      "metadata": {
        "id": "ZF5wnhJgiW_r"
      },
      "execution_count": 31,
      "outputs": []
    },
    {
      "cell_type": "code",
      "source": [
        "from tensorflow.keras.models import Sequential\n",
        "from tensorflow.keras.layers import Dense\n",
        "\n",
        "model = Sequential ([\n",
        "    keras.Input(shape = (28*28)),\n",
        "    Dense(516, activation = 'relu'),\n",
        "    Dense(256, activation = 'relu'),\n",
        "    Dense(10)\n",
        "])"
      ],
      "metadata": {
        "id": "9-ADy_bMiy4Y"
      },
      "execution_count": 32,
      "outputs": []
    },
    {
      "cell_type": "code",
      "source": [
        "model.compile(loss = keras.losses.SparseCategoricalCrossentropy(from_logits = True),\n",
        "              optimizer = keras.optimizers.Adam(lr=0.001),\n",
        "              metrics = 'accuracy')"
      ],
      "metadata": {
        "colab": {
          "base_uri": "https://localhost:8080/"
        },
        "id": "bkWoKUc0jel2",
        "outputId": "895636a3-a344-4ce9-f0d3-394abf0dc379"
      },
      "execution_count": 33,
      "outputs": [
        {
          "output_type": "stream",
          "name": "stderr",
          "text": [
            "WARNING:absl:`lr` is deprecated in Keras optimizer, please use `learning_rate` or use the legacy optimizer, e.g.,tf.keras.optimizers.legacy.Adam.\n"
          ]
        }
      ]
    },
    {
      "cell_type": "code",
      "source": [
        "model.fit(x_train, y_train, batch_size = 32, epochs = 5, verbose = 2)\n",
        "model.evaluate(x_test, y_test, batch_size = 32, verbose = 2)"
      ],
      "metadata": {
        "colab": {
          "base_uri": "https://localhost:8080/"
        },
        "id": "Giyb2XECrjJ0",
        "outputId": "e3e684c2-8f82-48b9-859b-72326440a435"
      },
      "execution_count": 34,
      "outputs": [
        {
          "output_type": "stream",
          "name": "stdout",
          "text": [
            "Epoch 1/5\n",
            "1875/1875 - 16s - loss: 0.1847 - accuracy: 0.9427 - 16s/epoch - 8ms/step\n",
            "Epoch 2/5\n",
            "1875/1875 - 17s - loss: 0.0785 - accuracy: 0.9755 - 17s/epoch - 9ms/step\n",
            "Epoch 3/5\n",
            "1875/1875 - 17s - loss: 0.0535 - accuracy: 0.9827 - 17s/epoch - 9ms/step\n",
            "Epoch 4/5\n",
            "1875/1875 - 17s - loss: 0.0404 - accuracy: 0.9868 - 17s/epoch - 9ms/step\n",
            "Epoch 5/5\n",
            "1875/1875 - 15s - loss: 0.0325 - accuracy: 0.9896 - 15s/epoch - 8ms/step\n",
            "313/313 - 1s - loss: 0.0841 - accuracy: 0.9773 - 1s/epoch - 5ms/step\n"
          ]
        },
        {
          "output_type": "execute_result",
          "data": {
            "text/plain": [
              "[0.084083691239357, 0.9772999882698059]"
            ]
          },
          "metadata": {},
          "execution_count": 34
        }
      ]
    },
    {
      "cell_type": "markdown",
      "source": [],
      "metadata": {
        "id": "2nBEU2mBo7Hd"
      }
    }
  ]
}