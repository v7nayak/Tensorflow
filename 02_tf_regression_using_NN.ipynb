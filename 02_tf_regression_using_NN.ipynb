{
  "nbformat": 4,
  "nbformat_minor": 0,
  "metadata": {
    "colab": {
      "provenance": []
    },
    "kernelspec": {
      "name": "python3",
      "display_name": "Python 3"
    },
    "language_info": {
      "name": "python"
    }
  },
  "cells": [
    {
      "cell_type": "code",
      "execution_count": 26,
      "metadata": {
        "id": "nU6U8nkNndtm"
      },
      "outputs": [],
      "source": [
        "import numpy as np\n",
        "import tensorflow as tf\n",
        "import matplotlib.pyplot as plt"
      ]
    },
    {
      "cell_type": "code",
      "source": [
        "x = np.array([1,2,3,4])\n",
        "y = np.array([5,8,11,14])\n",
        "\n",
        "plt.plot(x,y)"
      ],
      "metadata": {
        "colab": {
          "base_uri": "https://localhost:8080/",
          "height": 447
        },
        "id": "_m-IlIG-pHSk",
        "outputId": "77641c90-1975-44cc-aa84-7664cdb0584b"
      },
      "execution_count": 27,
      "outputs": [
        {
          "output_type": "execute_result",
          "data": {
            "text/plain": [
              "[<matplotlib.lines.Line2D at 0x7eea1a12aa70>]"
            ]
          },
          "metadata": {},
          "execution_count": 27
        },
        {
          "output_type": "display_data",
          "data": {
            "text/plain": [
              "<Figure size 640x480 with 1 Axes>"
            ],
            "image/png": "[encoded data removed]"
          },
          "metadata": {}
        }
      ]
    },
    {
      "cell_type": "code",
      "source": [
        "## Converting np-arrays into tensors\n",
        "\n",
        "x = tf.cast(tf.constant(x), dtype = tf.float32)\n",
        "y = tf.cast(tf.constant(y), dtype = tf.float32)"
      ],
      "metadata": {
        "id": "hQyG4WeC2reu"
      },
      "execution_count": 28,
      "outputs": []
    },
    {
      "cell_type": "code",
      "source": [
        "\n",
        "r2x = x[:, np.newaxis]\n",
        "\n",
        "r2y = y[:, np.newaxis]\n",
        "\n"
      ],
      "metadata": {
        "id": "Wn8NObKb3zAh"
      },
      "execution_count": 29,
      "outputs": []
    },
    {
      "cell_type": "code",
      "source": [
        "##Creating a model in tensorflow\n",
        "\n",
        "##1\n",
        "#Create the model -\n",
        "#Define input + output layers, and hidden layers\n",
        "\n",
        "##2\n",
        "#Compile the model -\n",
        "#Define the kind of loss function, optimizer and accuracy metric to be used\n",
        "\n",
        "##3\n",
        "#Fitting the model -\n",
        "#model.fit( x_train , y_train, epochs = 5 )\n",
        "\n",
        "##4\n",
        "#Evaluating the model\n",
        "#model.evaluate( x_test, y_test )"
      ],
      "metadata": {
        "id": "wKouKzNTr05x"
      },
      "execution_count": 30,
      "outputs": []
    },
    {
      "cell_type": "code",
      "source": [
        "from tensorflow.keras.models import Sequential\n",
        "from tensorflow.keras.layers import Dense\n",
        "\n",
        "model = Sequential ([\n",
        "    Dense(1),\n",
        "    Dense(10, activation = 'relu'),\n",
        "    Dense(5, activation = 'relu'),\n",
        "    Dense(1, activation = 'linear')\n",
        "])"
      ],
      "metadata": {
        "id": "5Iw5Q63Usjw6"
      },
      "execution_count": 31,
      "outputs": []
    },
    {
      "cell_type": "code",
      "source": [
        "model.compile(loss = tf.keras.losses.mae,\n",
        "              optimizer = tf.keras.optimizers.Adam(lr = 0.001),\n",
        "              metrics = ['mae'] )"
      ],
      "metadata": {
        "id": "ExtXi5n4uSE8",
        "colab": {
          "base_uri": "https://localhost:8080/"
        },
        "outputId": "51bf2f64-612a-4cc9-89d7-e6d1714fd6c8"
      },
      "execution_count": 32,
      "outputs": [
        {
          "output_type": "stream",
          "name": "stderr",
          "text": [
            "WARNING:absl:`lr` is deprecated in Keras optimizer, please use `learning_rate` or use the legacy optimizer, e.g.,tf.keras.optimizers.legacy.Adam.\n"
          ]
        }
      ]
    },
    {
      "cell_type": "code",
      "source": [
        "model.fit(r2x, r2y, epochs = 45)"
      ],
      "metadata": {
        "colab": {
          "base_uri": "https://localhost:8080/"
        },
        "id": "REbLc-enu4kY",
        "outputId": "eff5c752-6046-40e6-8d62-a353f9ec735d"
      },
      "execution_count": 33,
      "outputs": [
        {
          "output_type": "stream",
          "name": "stdout",
          "text": [
            "Epoch 1/45\n",
            "1/1 [==============================] - 1s 1s/step - loss: 10.3402 - mae: 10.3402\n",
            "Epoch 2/45\n",
            "1/1 [==============================] - 0s 17ms/step - loss: 10.3193 - mae: 10.3193\n",
            "Epoch 3/45\n",
            "1/1 [==============================] - 0s 11ms/step - loss: 10.2984 - mae: 10.2984\n",
            "Epoch 4/45\n",
            "1/1 [==============================] - 0s 11ms/step - loss: 10.2777 - mae: 10.2777\n",
            "Epoch 5/45\n",
            "1/1 [==============================] - 0s 11ms/step - loss: 10.2570 - mae: 10.2570\n",
            "Epoch 6/45\n",
            "1/1 [==============================] - 0s 11ms/step - loss: 10.2364 - mae: 10.2364\n",
            "Epoch 7/45\n",
            "1/1 [==============================] - 0s 11ms/step - loss: 10.2159 - mae: 10.2159\n",
            "Epoch 8/45\n",
            "1/1 [==============================] - 0s 11ms/step - loss: 10.1955 - mae: 10.1955\n",
            "Epoch 9/45\n",
            "1/1 [==============================] - 0s 11ms/step - loss: 10.1752 - mae: 10.1752\n",
            "Epoch 10/45\n",
            "1/1 [==============================] - 0s 10ms/step - loss: 10.1549 - mae: 10.1549\n",
            "Epoch 11/45\n",
            "1/1 [==============================] - 0s 10ms/step - loss: 10.1348 - mae: 10.1348\n",
            "Epoch 12/45\n",
            "1/1 [==============================] - 0s 9ms/step - loss: 10.1147 - mae: 10.1147\n",
            "Epoch 13/45\n",
            "1/1 [==============================] - 0s 10ms/step - loss: 10.0947 - mae: 10.0947\n",
            "Epoch 14/45\n",
            "1/1 [==============================] - 0s 9ms/step - loss: 10.0748 - mae: 10.0748\n",
            "Epoch 15/45\n",
            "1/1 [==============================] - 0s 9ms/step - loss: 10.0550 - mae: 10.0550\n",
            "Epoch 16/45\n",
            "1/1 [==============================] - 0s 9ms/step - loss: 10.0353 - mae: 10.0353\n",
            "Epoch 17/45\n",
            "1/1 [==============================] - 0s 10ms/step - loss: 10.0156 - mae: 10.0156\n",
            "Epoch 18/45\n",
            "1/1 [==============================] - 0s 9ms/step - loss: 9.9961 - mae: 9.9961\n",
            "Epoch 19/45\n",
            "1/1 [==============================] - 0s 9ms/step - loss: 9.9766 - mae: 9.9766\n",
            "Epoch 20/45\n",
            "1/1 [==============================] - 0s 11ms/step - loss: 9.9572 - mae: 9.9572\n",
            "Epoch 21/45\n",
            "1/1 [==============================] - 0s 9ms/step - loss: 9.9379 - mae: 9.9379\n",
            "Epoch 22/45\n",
            "1/1 [==============================] - 0s 8ms/step - loss: 9.9187 - mae: 9.9187\n",
            "Epoch 23/45\n",
            "1/1 [==============================] - 0s 10ms/step - loss: 9.8995 - mae: 9.8995\n",
            "Epoch 24/45\n",
            "1/1 [==============================] - 0s 10ms/step - loss: 9.8805 - mae: 9.8805\n",
            "Epoch 25/45\n",
            "1/1 [==============================] - 0s 9ms/step - loss: 9.8615 - mae: 9.8615\n",
            "Epoch 26/45\n",
            "1/1 [==============================] - 0s 9ms/step - loss: 9.8426 - mae: 9.8426\n",
            "Epoch 27/45\n",
            "1/1 [==============================] - 0s 9ms/step - loss: 9.8237 - mae: 9.8237\n",
            "Epoch 28/45\n",
            "1/1 [==============================] - 0s 9ms/step - loss: 9.8049 - mae: 9.8049\n",
            "Epoch 29/45\n",
            "1/1 [==============================] - 0s 10ms/step - loss: 9.7862 - mae: 9.7862\n",
            "Epoch 30/45\n",
            "1/1 [==============================] - 0s 8ms/step - loss: 9.7675 - mae: 9.7675\n",
            "Epoch 31/45\n",
            "1/1 [==============================] - 0s 9ms/step - loss: 9.7489 - mae: 9.7489\n",
            "Epoch 32/45\n",
            "1/1 [==============================] - 0s 9ms/step - loss: 9.7303 - mae: 9.7303\n",
            "Epoch 33/45\n",
            "1/1 [==============================] - 0s 10ms/step - loss: 9.7118 - mae: 9.7118\n",
            "Epoch 34/45\n",
            "1/1 [==============================] - 0s 11ms/step - loss: 9.6933 - mae: 9.6933\n",
            "Epoch 35/45\n",
            "1/1 [==============================] - 0s 10ms/step - loss: 9.6749 - mae: 9.6749\n",
            "Epoch 36/45\n",
            "1/1 [==============================] - 0s 9ms/step - loss: 9.6565 - mae: 9.6565\n",
            "Epoch 37/45\n",
            "1/1 [==============================] - 0s 8ms/step - loss: 9.6382 - mae: 9.6382\n",
            "Epoch 38/45\n",
            "1/1 [==============================] - 0s 8ms/step - loss: 9.6198 - mae: 9.6198\n",
            "Epoch 39/45\n",
            "1/1 [==============================] - 0s 10ms/step - loss: 9.6015 - mae: 9.6015\n",
            "Epoch 40/45\n",
            "1/1 [==============================] - 0s 9ms/step - loss: 9.5832 - mae: 9.5832\n",
            "Epoch 41/45\n",
            "1/1 [==============================] - 0s 11ms/step - loss: 9.5649 - mae: 9.5649\n",
            "Epoch 42/45\n",
            "1/1 [==============================] - 0s 11ms/step - loss: 9.5467 - mae: 9.5467\n",
            "Epoch 43/45\n",
            "1/1 [==============================] - 0s 12ms/step - loss: 9.5284 - mae: 9.5284\n",
            "Epoch 44/45\n",
            "1/1 [==============================] - 0s 11ms/step - loss: 9.5102 - mae: 9.5102\n",
            "Epoch 45/45\n",
            "1/1 [==============================] - 0s 9ms/step - loss: 9.4919 - mae: 9.4919\n"
          ]
        },
        {
          "output_type": "execute_result",
          "data": {
            "text/plain": [
              "<keras.src.callbacks.History at 0x7eea1a190880>"
            ]
          },
          "metadata": {},
          "execution_count": 33
        }
      ]
    },
    {
      "cell_type": "code",
      "source": [
        "model.predict([11])"
      ],
      "metadata": {
        "colab": {
          "base_uri": "https://localhost:8080/"
        },
        "id": "HmjO9Jt04FMF",
        "outputId": "421bc067-19bd-45f9-ff83-59fb23ec50e1"
      },
      "execution_count": 34,
      "outputs": [
        {
          "output_type": "stream",
          "name": "stdout",
          "text": [
            "1/1 [==============================] - 0s 82ms/step\n"
          ]
        },
        {
          "output_type": "execute_result",
          "data": {
            "text/plain": [
              "array([[-0.49525112]], dtype=float32)"
            ]
          },
          "metadata": {},
          "execution_count": 34
        }
      ]
    }
  ]
}